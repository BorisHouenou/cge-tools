{
 "cells": [
  {
   "cell_type": "code",
   "execution_count": null,
   "metadata": {
    "collapsed": false
   },
   "outputs": [],
   "source": [
    "import pandas as pd\n",
    "import numpy as np\n",
    "\n",
    "from bokeh.embed import file_html\n",
    "from bokeh.models import ColumnDataSource, Patches, HoverTool, TapTool, Plot, Range1d\n",
    "from bokeh.palettes import Blues9\n",
    "from bokeh.resources import INLINE\n",
    "\n",
    "from jinja2 import Template\n",
    "from IPython.display import display_html\n",
    "\n",
    "from constants import PLOT_FORMATS"
   ]
  },
  {
   "cell_type": "markdown",
   "metadata": {},
   "source": [
    "### Read in map data and numerical data"
   ]
  },
  {
   "cell_type": "code",
   "execution_count": null,
   "metadata": {
    "collapsed": false
   },
   "outputs": [],
   "source": [
    "map_data = pd.read_hdf('../cgetools/data/province_map_data.hdf', 'df')\n",
    "data = pd.read_csv('../cgetools/data/sample_data_by_year.csv')"
   ]
  },
  {
   "cell_type": "code",
   "execution_count": null,
   "metadata": {
    "collapsed": false
   },
   "outputs": [],
   "source": [
    "print(len(map_data))\n",
    "map_data.sort('alpha', inplace=True)\n",
    "map_data.head()"
   ]
  },
  {
   "cell_type": "code",
   "execution_count": null,
   "metadata": {
    "collapsed": false
   },
   "outputs": [],
   "source": [
    "print(len(data))\n",
    "data.head(5)"
   ]
  },
  {
   "cell_type": "markdown",
   "metadata": {},
   "source": [
    "### Join to gether the map data and numerical data\n",
    "\n",
    "Note if you have a column name matching one in the map_data file (alpha, code, name_en, name_zh), this will work automagically. If not, you can specify columns for the merge."
   ]
  },
  {
   "cell_type": "code",
   "execution_count": null,
   "metadata": {
    "collapsed": false
   },
   "outputs": [],
   "source": [
    "all_data = map_data.merge(data)\n",
    "all_data.head()"
   ]
  },
  {
   "cell_type": "markdown",
   "metadata": {},
   "source": [
    "#### CHECK THAT YOU HAVE THE EXPECTED NUMBER OF ROWS"
   ]
  },
  {
   "cell_type": "code",
   "execution_count": null,
   "metadata": {
    "collapsed": false
   },
   "outputs": [],
   "source": [
    "len(all_data) == len(map_data)"
   ]
  },
  {
   "cell_type": "markdown",
   "metadata": {},
   "source": [
    "# Color your data"
   ]
  },
  {
   "cell_type": "code",
   "execution_count": null,
   "metadata": {
    "collapsed": false
   },
   "outputs": [],
   "source": [
    "def color_data(data, columns_to_colorify, data_min=None, data_max=None, palette=Blues9):\n",
    "    # data - the data frame which you are adding colored values to\n",
    "    # columns_to_colorify - a list of strings which select the columns\n",
    "    \n",
    "    if data_min is None:\n",
    "        num_only = data[columns_to_colorify]\n",
    "        global_min = num_only.min().min()\n",
    "        data_min = np.floor(global_min)\n",
    "\n",
    "    if data_max is None:\n",
    "        num_only = data[columns_to_colorify]\n",
    "        global_max = num_only.max().max()\n",
    "        data_max = np.ceil(global_max)\n",
    "    \n",
    "    data_range = data_max - data_min\n",
    "    bin_factor = data_range / len(palette)\n",
    "    \n",
    "    def _get_color(value, palette):\n",
    "        index = int(value / bin_factor)\n",
    "        return palette[index - 1]\n",
    "\n",
    "    for column_name in columns_to_colorify:\n",
    "        color_name = '%s_color' % column_name\n",
    "        data[color_name] = data['%s' % column_name].apply(_get_color, args=([palette]))\n",
    "    return data\n",
    "\n",
    "colored_data = color_data(all_data, [str(x) for x in range(1990, 2015)])\n",
    "colored_data[['1990_color']].head()"
   ]
  },
  {
   "cell_type": "markdown",
   "metadata": {},
   "source": [
    "# Make a static map for 1990 data"
   ]
  },
  {
   "cell_type": "code",
   "execution_count": null,
   "metadata": {
    "collapsed": false
   },
   "outputs": [],
   "source": [
    "from constants import PLOT_FORMATS\n",
    "\n",
    "def setup_china_map_plot(column_to_plot, plot_width=600, x_range=[70, 140], y_range=[10, 60], title=\"\"):\n",
    "    aspect_ratio = (x_range[1] - x_range[0]) / (y_range[1] - y_range[0])\n",
    "    plot_height = int(plot_width / aspect_ratio)\n",
    "    x_range = Range1d(x_range[0], x_range[1])\n",
    "    y_range = Range1d(y_range[0], y_range[1])\n",
    "    plot = Plot(\n",
    "        x_range=x_range, \n",
    "        y_range=y_range, \n",
    "        title=title, \n",
    "        plot_width=plot_width, \n",
    "        plot_height=plot_height, \n",
    "        **PLOT_FORMATS)\n",
    "    \n",
    "    countries = Patches(\n",
    "        xs='xs', \n",
    "        ys='ys',\n",
    "        fill_color=column_to_plot,\n",
    "        line_color=Blues9[0]\n",
    "    )    \n",
    "    \n",
    "    plot.add_glyph(ColumnDataSource(colored_data), countries)\n",
    "    return plot"
   ]
  },
  {
   "cell_type": "code",
   "execution_count": null,
   "metadata": {
    "collapsed": false,
    "scrolled": true
   },
   "outputs": [],
   "source": [
    "PLOT_WIDTH = 900\n",
    "TITLE = '1990 - Random data'\n",
    "COLUMN_TO_PLOT = '1990_color'\n",
    "\n",
    "map_box = setup_china_map_plot(COLUMN_TO_PLOT, plot_width=PLOT_WIDTH)\n",
    "\n",
    "tooltips = \"<span class='tooltip-text year'>1990</span>\"                   \n",
    "tooltips += \"<span class='tooltip-text country'>@name_en</span>\"               \n",
    "tooltips += \"<span class='tooltip-text value'>@1990</span>\"                                    \n",
    "map_box.add_tools(HoverTool(tooltips=tooltips))\n",
    "\n",
    "\n",
    "# Open our custom template\n",
    "with open('../cgetools/data/map_template.jinja', 'r') as f:\n",
    "    template = Template(f.read())\n",
    "\n",
    "# Update these to change the text\n",
    "template_variables = {\n",
    "    'title': TITLE,\n",
    "    'narrative': 'Some explanatory text.',\n",
    "}\n",
    "\n",
    "# Use inline resources, render the html and open\n",
    "html = file_html(map_box, resources=INLINE, title=TITLE, template=template, template_variables=template_variables)\n",
    "\n",
    "# Uncomment the next two lines if you'd like to save the file\n",
    "with open('interactive_map.html', 'w') as f:\n",
    "    f.write(html)\n",
    "\n",
    "display_html(html, raw=True)"
   ]
  },
  {
   "cell_type": "code",
   "execution_count": null,
   "metadata": {
    "collapsed": true
   },
   "outputs": [],
   "source": []
  }
 ],
 "metadata": {
  "kernelspec": {
   "display_name": "Python 3",
   "language": "python",
   "name": "python3"
  },
  "language_info": {
   "codemirror_mode": {
    "name": "ipython",
    "version": 3
   },
   "file_extension": ".py",
   "mimetype": "text/x-python",
   "name": "python",
   "nbconvert_exporter": "python",
   "pygments_lexer": "ipython3",
   "version": "3.4.3"
  }
 },
 "nbformat": 4,
 "nbformat_minor": 0
}
