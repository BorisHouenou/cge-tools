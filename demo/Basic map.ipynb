{
 "cells": [
  {
   "cell_type": "code",
   "execution_count": null,
   "metadata": {
    "collapsed": false
   },
   "outputs": [],
   "source": [
    "import pandas as pd\n",
    "import numpy as np\n",
    "\n",
    "from bokeh.models import ColumnDataSource, Patches, HoverTool, TapTool, Plot, Range1d\n",
    "from bokeh.plotting import figure, show, output_notebook\n",
    "\n",
    "output_notebook()"
   ]
  },
  {
   "cell_type": "code",
   "execution_count": null,
   "metadata": {
    "collapsed": false
   },
   "outputs": [],
   "source": [
    "## Read from hdf if you have it installed\n",
    "\n",
    "#map_data = pd.read_hdf('../cgetools/data/province_map_data.hdf', 'df')\n",
    "#map_data.head()"
   ]
  },
  {
   "cell_type": "code",
   "execution_count": null,
   "metadata": {
    "collapsed": false
   },
   "outputs": [],
   "source": [
    "## Read from json and convert to np arrays\n",
    "\n",
    "#map_data = pd.read_json('../cgetools/data/province_map_data.json')\n",
    "def convert_none_to_np_nan(r):\n",
    "    r['xs'] = np.array(r['xs'], dtype=float)\n",
    "    r['ys'] = np.array(r['ys'], dtype=float)\n",
    "    return r\n",
    "#map_data = map_data.apply(convert_none_to_np_nan, axis=1)\n",
    "#map_data.head()"
   ]
  },
  {
   "cell_type": "code",
   "execution_count": null,
   "metadata": {
    "collapsed": true
   },
   "outputs": [],
   "source": [
    "def make_map(source, x_range=[-180, 180], y_range=[-90, 90], plot_width=600):\n",
    "    \n",
    "    aspect_ratio = (x_range[1] - x_range[0]) / (y_range[1] - y_range[0])\n",
    "    plot_height = int(plot_width / aspect_ratio)\n",
    "\n",
    "    unselected_color = '#fff7bc'\n",
    "    selected_color = '#fec44f'\n",
    "    outline_color = '#993404'\n",
    "    \n",
    "    polys = Patches(xs='xs', \n",
    "                    ys='ys',\n",
    "                    fill_color=unselected_color, \n",
    "                    line_color=outline_color)\n",
    "\n",
    "    selected_polys = Patches(xs='xs', \n",
    "                             ys='ys',\n",
    "                             fill_color=selected_color, \n",
    "                             line_color=outline_color)\n",
    "    \n",
    "\n",
    "    p = figure(title='',\n",
    "               plot_width=plot_width, \n",
    "               plot_height=plot_height, \n",
    "               x_range=x_range, \n",
    "               y_range=y_range,\n",
    "               outline_line_color='white',\n",
    "               tools='box_zoom, tap, reset')\n",
    "\n",
    "    p.add_glyph(source, polys, selection_glyph=selected_polys, nonselection_glyph=polys)\n",
    "    ttip = [(\"name\", \"@name_en\"), (\"code\", \"@code\"), (\"alpha\", \"@alpha\")]\n",
    "    p.add_tools(HoverTool(tooltips=ttip))\n",
    "\n",
    "    return p"
   ]
  },
  {
   "cell_type": "code",
   "execution_count": null,
   "metadata": {
    "collapsed": false
   },
   "outputs": [],
   "source": [
    "map_source = ColumnDataSource(map_data)\n",
    "china = make_map(map_source, x_range=[70, 140], y_range=[10, 60])\n",
    "show(china)"
   ]
  },
  {
   "cell_type": "code",
   "execution_count": null,
   "metadata": {
    "collapsed": true
   },
   "outputs": [],
   "source": []
  }
 ],
 "metadata": {
  "kernelspec": {
   "display_name": "Python 3",
   "language": "python",
   "name": "python3"
  },
  "language_info": {
   "codemirror_mode": {
    "name": "ipython",
    "version": 3
   },
   "file_extension": ".py",
   "mimetype": "text/x-python",
   "name": "python",
   "nbconvert_exporter": "python",
   "pygments_lexer": "ipython3",
   "version": "3.4.3"
  }
 },
 "nbformat": 4,
 "nbformat_minor": 0
}
