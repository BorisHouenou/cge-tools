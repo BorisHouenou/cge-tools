{
 "cells": [
  {
   "cell_type": "markdown",
   "metadata": {},
   "source": [
    "### Output with template"
   ]
  },
  {
   "cell_type": "code",
   "execution_count": null,
   "metadata": {
    "collapsed": false
   },
   "outputs": [],
   "source": [
    "with open('../../cgetools/assets/map_template.jinja', 'r') as f:\n",
    "    template = Template(f.read())\n",
    "\n",
    "# Update these to change the text\n",
    "template_variables = {\n",
    "    'title': TITLE,\n",
    "    'narrative': 'Some explanatory text.',\n",
    "    'tooltip_css': '<link href=\"../../cgetools/assets/tooltip.css\" rel=\"stylesheet\" type=\"text/css\">',\n",
    "}\n",
    "\n",
    "# Use inline resources, render the html and open\n",
    "html = file_html(layout, resources=INLINE, title=TITLE, template=template, template_variables=template_variables)\n",
    "\n",
    "\n",
    "# Uncomment the next two lines if you'd like to save the file\n",
    "#with open('interactive_map_with_slider.html', 'w') as f:\n",
    "#    f.write(html)\n",
    "\n",
    "display_html(html, raw=True)"
   ]
  },
  {
   "cell_type": "markdown",
   "metadata": {
    "collapsed": true
   },
   "source": [
    "Manually trigger a callback\n",
    "```\n",
    "plot = Bokeh.index['bb9cc790-0082-4d0a-9230-cab4a18cf463']\n",
    "// This id is the same as the select id\n",
    "view_two = plot.views['f673545f-5563-4007-aa07-72f7c8f8e373'];\n",
    "view_two.mset('value', '2006'); \n",
    "view_two.change_input();\n",
    "\n",
    "```"
   ]
  }
 ],
 "metadata": {
  "kernelspec": {
   "display_name": "Python 3",
   "language": "python",
   "name": "python3"
  },
  "language_info": {
   "codemirror_mode": {
    "name": "ipython",
    "version": 3
   },
   "file_extension": ".py",
   "mimetype": "text/x-python",
   "name": "python",
   "nbconvert_exporter": "python",
   "pygments_lexer": "ipython3",
   "version": "3.4.3"
  }
 },
 "nbformat": 4,
 "nbformat_minor": 0
}
