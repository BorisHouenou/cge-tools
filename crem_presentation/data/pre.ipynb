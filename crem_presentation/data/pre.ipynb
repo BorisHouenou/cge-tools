{
 "cells": [
  {
   "cell_type": "code",
   "execution_count": 1,
   "metadata": {
    "collapsed": false
   },
   "outputs": [],
   "source": [
    "# Load all the GDX files\n",
    "from collections import OrderedDict\n",
    "from os import makedirs as mkdir\n",
    "from os.path import join\n",
    "\n",
    "import gdx\n",
    "import pandas as pd\n",
    "import xray\n",
    "\n",
    "GDX_DIR = 'gdx'\n",
    "OUT_DIR = '../../../cecp-cop21-data'\n",
    "FILES = [\n",
    "    ('bau', 'result_urban_exo.gdx'),\n",
    "    ('3', 'result_cint_n_3.gdx'),\n",
    "    ('4', 'result_cint_n_4.gdx'),\n",
    "    ('5', 'result_cint_n_5.gdx'),    \n",
    "    ]\n",
    "\n",
    "raw = OrderedDict()\n",
    "extra = dict()\n",
    "for case, fn in FILES:\n",
    "    raw[case] = gdx.File('gdx/' + fn)\n",
    "    extra[case] = gdx.File('gdx/' + fn.replace('.gdx', '_extra.gdx'))\n",
    "\n",
    "CREM = raw['bau']\n",
    "cases = pd.Index(raw.keys(), name='case')\n",
    "time = pd.Index(filter(lambda t: int(t) <= 2030, CREM.set('t')))"
   ]
  },
  {
   "cell_type": "code",
   "execution_count": 2,
   "metadata": {
    "collapsed": false
   },
   "outputs": [],
   "source": [
    "# List of all the parameters available in each file\n",
    "#CREM.parameters()"
   ]
  },
  {
   "cell_type": "code",
   "execution_count": 2,
   "metadata": {
    "collapsed": false
   },
   "outputs": [],
   "source": [
    "arrays = {}\n",
    "\n",
    "# GDP\n",
    "temp = [raw[case].extract('gdp_ref') for case in cases]\n",
    "arrays['GDP'] = xray.concat(temp, dim=cases).sel(rs=CREM.set('r')) \\\n",
    "                    .rename({'rs': 'r'})"
   ]
  },
  {
   "cell_type": "code",
   "execution_count": 3,
   "metadata": {
    "collapsed": false
   },
   "outputs": [],
   "source": [
    "# CO2 emissions\n",
    "temp = []\n",
    "for case in cases:\n",
    "    temp.append(raw[case].extract('sectem').sum('g') +\n",
    "        raw[case].extract('houem'))\n",
    "arrays['CO2_emi'] = xray.concat(temp, dim=cases)"
   ]
  },
  {
   "cell_type": "code",
   "execution_count": 4,
   "metadata": {
    "collapsed": false
   },
   "outputs": [],
   "source": [
    "# Air pollutant emissions\n",
    "temp = []\n",
    "for case in cases:\n",
    "    temp.append(raw[case].extract('urban').sum('*'))\n",
    "temp = xray.concat(temp, dim=cases).sel(rs=CREM.set('r')).rename({'rs': 'r'})\n",
    "for u in temp['urb']:\n",
    "    if u in ['PM10', 'PM25']:\n",
    "        continue\n",
    "    arrays['{}_emi'.format(u.values)] = temp.sel(urb=u).drop('urb')"
   ]
  },
  {
   "cell_type": "code",
   "execution_count": 8,
   "metadata": {
    "collapsed": false
   },
   "outputs": [],
   "source": [
    "# CO₂ price\n",
    "temp = []\n",
    "for case in cases:\n",
    "    temp.append(extra[case].extract('ptcarb_t'))\n",
    "arrays['CO2_price'] = xray.concat(temp, dim=cases)"
   ]
  },
  {
   "cell_type": "code",
   "execution_count": 10,
   "metadata": {
    "collapsed": false
   },
   "outputs": [],
   "source": [
    "# Consumption\n",
    "temp = []\n",
    "for case in cases:\n",
    "    temp.append(extra[case].extract('cons_t'))\n",
    "arrays['Consumption'] = xray.concat(temp, dim=cases)"
   ]
  },
  {
   "cell_type": "code",
   "execution_count": 11,
   "metadata": {
    "collapsed": false
   },
   "outputs": [],
   "source": [
    "# Primary energy\n",
    "temp = []\n",
    "for case in cases:\n",
    "    temp.append(extra[case].extract('pe_t'))\n",
    "temp = xray.concat(temp, dim=cases).sel(t=time)\n",
    "for ener in temp['e']:\n",
    "    arrays['{}_energy'.format(ener.values)] = temp.sel(e=ener).drop('e')"
   ]
  },
  {
   "cell_type": "markdown",
   "metadata": {},
   "source": [
    "## TODO: further variables\n",
    "\n",
    "From C-REM:\n",
    "- Population\n",
    "- Share of coal in production inputs\n",
    "\n",
    "From GEOS-Chem:\n",
    "- Population-weighted PM2.5 exposure"
   ]
  },
  {
   "cell_type": "code",
   "execution_count": 12,
   "metadata": {
    "collapsed": false
   },
   "outputs": [
    {
     "data": {
      "text/plain": [
       "<xray.Dataset>\n",
       "Dimensions:      (case: 4, r: 30, t: 6)\n",
       "Coordinates:\n",
       "  * t            (t) object '2007' '2010' '2015' '2020' '2025' '2030'\n",
       "  * r            (r) <U2 'BJ' 'TJ' 'HE' 'LN' 'SH' 'JS' 'ZJ' 'FJ' 'SD' 'GD' ...\n",
       "  * case         (case) object 'bau' '3' '4' '5'\n",
       "Data variables:\n",
       "    SOL_energy   (case, r, t) float64 5e+300 5e+300 5e+300 5e+300 5e+300 ...\n",
       "    COL_energy   (case, r, t) float64 19.59 22.06 28.29 34.43 37.86 39.73 ...\n",
       "    NUC_energy   (case, r, t) float64 5e+300 5e+300 5e+300 5e+300 5e+300 ...\n",
       "    NH3_emi      (case, r, t) float64 0.0755 0.06891 0.06917 0.08399 0.09497 ...\n",
       "    HYD_energy   (case, r, t) float64 0.1134 0.04984 0.04976 0.04989 0.04941 ...\n",
       "    BC_emi       (case, r, t) float64 0.01766 0.01688 0.01721 0.01999 ...\n",
       "    GAS_energy   (case, r, t) float64 5.466 6.842 8.318 10.29 13.44 18.02 ...\n",
       "    WND_energy   (case, r, t) float64 5e+300 5e+300 5e+300 5e+300 5e+300 ...\n",
       "    CO2_emi      (case, r, t) float64 111.1 128.3 164.1 200.6 225.2 244.5 ...\n",
       "    SO2_emi      (case, r, t) float64 0.244 0.1953 0.2297 0.2647 0.2847 ...\n",
       "    CO2_price    (case, t) float64 1.0 1.0 1.0 1.0 1.0 1.0 1.0 1.0 0.006653 ...\n",
       "    CO_emi       (case, r, t) float64 2.847 2.683 2.778 3.479 4.013 4.457 ...\n",
       "    VOC_emi      (case, r, t) float64 0.934 0.9134 0.9477 1.241 1.478 1.675 ...\n",
       "    Consumption  (case, r, t) float64 39.97 51.83 78.19 110.5 142.2 176.9 ...\n",
       "    OC_emi       (case, r, t) float64 0.02113 0.02014 0.01963 0.02251 0.0237 ...\n",
       "    OIL_energy   (case, r, t) float64 18.26 21.03 26.49 31.86 34.71 36.0 ...\n",
       "    NOX_emi      (case, r, t) float64 0.2941 0.2745 0.2745 0.3372 0.3823 ...\n",
       "    GDP          (case, r, t) float64 127.6 155.0 221.5 310.5 403.3 503.6 ..."
      ]
     },
     "execution_count": 12,
     "metadata": {},
     "output_type": "execute_result"
    }
   ],
   "source": [
    "# Combine all variables into a single xray.Dataset and truncate time\n",
    "data = xray.Dataset(arrays).sel(t=time)\n",
    "# National totals\n",
    "national = data.sum('r')\n",
    "data"
   ]
  },
  {
   "cell_type": "code",
   "execution_count": 14,
   "metadata": {
    "collapsed": false
   },
   "outputs": [],
   "source": [
    "# TODO: output a README file along with the data files; units.\n",
    "\n",
    "# Create directories\n",
    "for r in CREM.set('r'):\n",
    "    mkdir(join(OUT_DIR, r), exist_ok=True)\n",
    "mkdir(join(OUT_DIR, 'national'), exist_ok=True)\n",
    "\n",
    "# Serialize to CSV\n",
    "for c in cases:\n",
    "    # Provincial data\n",
    "    for r in CREM.set('r'):\n",
    "        data.sel(case=c, r=r).drop(['case', 'r']).to_dataframe().to_csv(\n",
    "            join(OUT_DIR, r, '{}.csv'.format(c)))\n",
    "    # National data\n",
    "    national.sel(case=c).drop('case').to_dataframe() \\\n",
    "            .to_csv(join(OUT_DIR, 'national', '{}.csv'.format(c)))"
   ]
  }
 ],
 "metadata": {
  "kernelspec": {
   "display_name": "Python 3",
   "language": "python",
   "name": "python3"
  },
  "language_info": {
   "codemirror_mode": {
    "name": "ipython",
    "version": 3
   },
   "file_extension": ".py",
   "mimetype": "text/x-python",
   "name": "python",
   "nbconvert_exporter": "python",
   "pygments_lexer": "ipython3",
   "version": "3.4.3"
  }
 },
 "nbformat": 4,
 "nbformat_minor": 0
}
