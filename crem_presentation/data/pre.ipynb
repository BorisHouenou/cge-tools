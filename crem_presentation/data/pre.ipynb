{
 "cells": [
  {
   "cell_type": "code",
   "execution_count": 15,
   "metadata": {
    "collapsed": false
   },
   "outputs": [],
   "source": [
    "# Load all the GDX files\n",
    "import csv\n",
    "from collections import OrderedDict\n",
    "from os import makedirs as mkdir\n",
    "from os.path import join\n",
    "\n",
    "import gdx\n",
    "import pandas as pd\n",
    "import xray\n",
    "\n",
    "GDX_DIR = 'gdx'\n",
    "OUT_DIR = '../../../cecp-cop21-data'\n",
    "FILES = [\n",
    "    ('bau', 'result_urban_exo.gdx'),\n",
    "    ('3', 'result_cint_n_3.gdx'),\n",
    "    ('4', 'result_cint_n_4.gdx'),\n",
    "    ('5', 'result_cint_n_5.gdx'),\n",
    "    ('bau_lo', 'result_urban_exo_lessGDP.gdx'),\n",
    "    ('3_lo', 'result_cint_n_3_lessGDP.gdx'),\n",
    "    ('4_lo', 'result_cint_n_4_lessGDP.gdx'),\n",
    "    ('5_lo', 'result_cint_n_5_lessGDP.gdx'),\n",
    "    ]\n",
    "\n",
    "raw = OrderedDict()\n",
    "extra = dict()\n",
    "for case, fn in FILES:\n",
    "    raw[case] = gdx.File('gdx/' + fn)\n",
    "    extra[case] = gdx.File('gdx/' + fn.replace('.gdx', '_extra.gdx'))\n",
    "\n",
    "CREM = raw['bau']\n",
    "cases = pd.Index(raw.keys(), name='case')\n",
    "time = pd.Index(filter(lambda t: int(t) <= 2030, CREM.set('t')))"
   ]
  },
  {
   "cell_type": "code",
   "execution_count": 16,
   "metadata": {
    "collapsed": false
   },
   "outputs": [],
   "source": [
    "# List of all the parameters available in each file\n",
    "#CREM.parameters()"
   ]
  },
  {
   "cell_type": "code",
   "execution_count": 55,
   "metadata": {
    "collapsed": true
   },
   "outputs": [],
   "source": [
    "arrays = {}\n",
    "\n",
    "def label(variable, desc, unit_long, unit_short):\n",
    "    arrays[variable].attrs.update({'desc': desc, 'unit_long': unit_long,\n",
    "                                   'unit_short': unit_short})"
   ]
  },
  {
   "cell_type": "code",
   "execution_count": 56,
   "metadata": {
    "collapsed": false
   },
   "outputs": [],
   "source": [
    "# GDP\n",
    "temp = [raw[case].extract('gdp_ref') for case in cases]\n",
    "arrays['GDP'] = xray.concat(temp, dim=cases).sel(rs=CREM.set('r')) \\\n",
    "                    .rename({'rs': 'r'})\n",
    "label('GDP', 'Gross domestic product',\n",
    "      'billions of U.S. dollars, constant at 2007', '10⁹ USD')"
   ]
  },
  {
   "cell_type": "code",
   "execution_count": 57,
   "metadata": {
    "collapsed": false
   },
   "outputs": [],
   "source": [
    "# CO2 emissions\n",
    "temp = []\n",
    "for case in cases:\n",
    "    temp.append(raw[case].extract('sectem').sum('g') +\n",
    "        raw[case].extract('houem'))\n",
    "arrays['CO2_emi'] = xray.concat(temp, dim=cases)\n",
    "label('CO2_emi', 'Annual CO₂ emissions',\n",
    "      'millions of tonnes of CO₂', 'Mt')"
   ]
  },
  {
   "cell_type": "code",
   "execution_count": 60,
   "metadata": {
    "collapsed": false
   },
   "outputs": [],
   "source": [
    "# Air pollutant emissions\n",
    "temp = []\n",
    "for case in cases:\n",
    "    temp.append(raw[case].extract('urban').sum('*'))\n",
    "temp = xray.concat(temp, dim=cases).sel(rs=CREM.set('r')).rename({'rs': 'r'})\n",
    "for u in temp['urb']:\n",
    "    if u in ['PM10', 'PM25']:\n",
    "        continue\n",
    "    var_name = '{}_emi'.format(u.values)\n",
    "    arrays[var_name] = temp.sel(urb=u).drop('urb')\n",
    "    u_fancy = str(u.values).translate({'2': '₂', '3': '₃'})\n",
    "    label(var_name, 'Annual {} emissions'.format(u_fancy),\n",
    "          'millions of tonnes of ' + str(u_fancy), 'Mt')"
   ]
  },
  {
   "cell_type": "code",
   "execution_count": 62,
   "metadata": {
    "collapsed": false
   },
   "outputs": [],
   "source": [
    "# CO₂ price\n",
    "temp = []\n",
    "for case in cases:\n",
    "    temp.append(extra[case].extract('ptcarb_t'))\n",
    "arrays['CO2_price'] = xray.concat(temp, dim=cases)\n",
    "label('CO2_price', 'Price of CO₂ emissions permit',\n",
    "      '2007 US dollars per tonne CO₂', '2007 USD/t')"
   ]
  },
  {
   "cell_type": "code",
   "execution_count": 67,
   "metadata": {
    "collapsed": false
   },
   "outputs": [],
   "source": [
    "# Consumption\n",
    "temp = []\n",
    "for case in cases:\n",
    "    temp.append(extra[case].extract('cons_t'))\n",
    "arrays['cons'] = xray.concat(temp, dim=cases)\n",
    "label('cons', 'Household consumption',\n",
    "      'billions of U.S. dollars, constant at 2007', '10⁹ USD')"
   ]
  },
  {
   "cell_type": "code",
   "execution_count": 72,
   "metadata": {
    "collapsed": false
   },
   "outputs": [],
   "source": [
    "# Primary energy\n",
    "temp = []\n",
    "for case in cases:\n",
    "    temp.append(extra[case].extract('pe_t'))\n",
    "temp = xray.concat(temp, dim=cases).sel(t=time)\n",
    "e_name = {\n",
    "    'COL': 'Coal',\n",
    "    'GAS': 'Natural gas',\n",
    "    'OIL': 'Crude oil',\n",
    "    'NUC': 'Nuclear',\n",
    "    'WND': 'Wind',\n",
    "    'SOL': 'Solar',\n",
    "    'HYD': 'Hydroelectricity',\n",
    "    }\n",
    "for ener in temp['e']:\n",
    "    var_name = '{}_energy'.format(ener.values)\n",
    "    arrays[var_name] = temp.sel(e=ener).drop('e')\n",
    "    label(var_name, 'Primary energy from {}'.format(e_name[str(ener.values)]),\n",
    "          'Millions of tonnes of coal equivalent', 'Mtce')"
   ]
  },
  {
   "cell_type": "code",
   "execution_count": 102,
   "metadata": {
    "collapsed": true
   },
   "outputs": [],
   "source": [
    "# TODO population\n",
    "# FIXME this is a placeholder\n",
    "arrays['pop'] = arrays['GDP']\n",
    "label('pop', 'Population', 'Millions', '10⁶')"
   ]
  },
  {
   "cell_type": "code",
   "execution_count": 103,
   "metadata": {
    "collapsed": true
   },
   "outputs": [],
   "source": [
    "# TODO share of coal in production inputs\n",
    "# FIXME this is a placeholder\n",
    "arrays['COL_share'] = arrays['COL_energy'] / arrays['GDP']\n",
    "label('COL_share', 'Value share of coal in industrial production',\n",
    "      '(unitless)', '0')"
   ]
  },
  {
   "cell_type": "code",
   "execution_count": 104,
   "metadata": {
    "collapsed": true
   },
   "outputs": [],
   "source": [
    "# TODO population-weighted PM2.5 exposure\n",
    "arrays['PM2.5_exposure'] = arrays['GDP']\n",
    "label('PM2.5_exposure', 'Population-weighted exposure to PM2.5',\n",
    "      'micrograms per cubic metre', 'μg/m³')"
   ]
  },
  {
   "cell_type": "code",
   "execution_count": 105,
   "metadata": {
    "collapsed": false
   },
   "outputs": [],
   "source": [
    "# Combine all variables into a single xray.Dataset and truncate time\n",
    "data = xray.Dataset(arrays).sel(t=time)\n",
    "\n",
    "data['scenarios'] = (('case',), (\n",
    "    'BAU: Business-as-usual',\n",
    "    'Policy: Reduce carbon-intensity of GDP by 3%/year from BAU',\n",
    "    'Policy: Reduce carbon-intensity of GDP by 4%/year from BAU',\n",
    "    'Policy: Reduce carbon-intensity of GDP by 5%/year from BAU',\n",
    "    'LO: BAU with 1% lower annual GDP growth',\n",
    "    'Policy: Reduce carbon-intensity of GDP by 3%/year from LO',\n",
    "    'Policy: Reduce carbon-intensity of GDP by 4%/year from LO',\n",
    "    'Policy: Reduce carbon-intensity of GDP by 5%/year from LO',\n",
    "    ))\n",
    "\n",
    "# TODO construct data for low-ammonia cases\n",
    "base_cases = [str(name.values) for name in data['case']] \n",
    "nh3_cases = [name + '_nh3' for name in base_cases]\n",
    "d = xray.Dataset(coords={'case': nh3_cases})\n",
    "data.merge(d, join='outer', inplace=True)\n",
    "\n",
    "# National totals\n",
    "national = data.sum('r')"
   ]
  },
  {
   "cell_type": "code",
   "execution_count": 106,
   "metadata": {
    "collapsed": false
   },
   "outputs": [],
   "source": [
    "# Output a file with scenario information\n",
    "data['scenarios'].to_dataframe().to_csv(join(OUT_DIR, 'scenarios.csv'),\n",
    "                                        header=['description'],\n",
    "                                        quoting=csv.QUOTE_ALL)"
   ]
  },
  {
   "cell_type": "code",
   "execution_count": 107,
   "metadata": {
    "collapsed": false
   },
   "outputs": [
    {
     "name": "stdout",
     "output_type": "stream",
     "text": [
      "Missing dimension info:\n"
     ]
    }
   ],
   "source": [
    "# Output a file with variable information\n",
    "var_info = pd.DataFrame(index=[d for d in data.data_vars if d != 'scenarios'],\n",
    "                        columns=['desc', 'unit_long', 'unit_short'],\n",
    "                       dtype=str)\n",
    "print('Missing dimension info:')\n",
    "for name, _ in var_info.iterrows():\n",
    "    try:\n",
    "        row = [data[name].attrs[k] for k in var_info.columns]\n",
    "    except KeyError:\n",
    "        print(' ', name)\n",
    "        continue\n",
    "    var_info.loc[name,:] = row\n",
    "var_info.to_csv(join(OUT_DIR, 'variables.csv'), index_label='Variable',\n",
    "                quoting=csv.QUOTE_ALL)"
   ]
  },
  {
   "cell_type": "code",
   "execution_count": 108,
   "metadata": {
    "collapsed": false
   },
   "outputs": [],
   "source": [
    "# Create directories\n",
    "for r in CREM.set('r'):\n",
    "    mkdir(join(OUT_DIR, r), exist_ok=True)\n",
    "mkdir(join(OUT_DIR, 'national'), exist_ok=True)\n",
    "\n",
    "# Serialize to CSV\n",
    "for c in cases:\n",
    "    # Provincial data\n",
    "    for r in CREM.set('r'):\n",
    "        data.sel(case=c, r=r).drop(['case', 'r']).to_dataframe().to_csv(\n",
    "            join(OUT_DIR, r, '{}.csv'.format(c)))\n",
    "    # National data\n",
    "    national.sel(case=c).drop('case').to_dataframe() \\\n",
    "            .to_csv(join(OUT_DIR, 'national', '{}.csv'.format(c)))"
   ]
  }
 ],
 "metadata": {
  "kernelspec": {
   "display_name": "Python 3",
   "language": "python",
   "name": "python3"
  },
  "language_info": {
   "codemirror_mode": {
    "name": "ipython",
    "version": 3
   },
   "file_extension": ".py",
   "mimetype": "text/x-python",
   "name": "python",
   "nbconvert_exporter": "python",
   "pygments_lexer": "ipython3",
   "version": "3.4.3"
  }
 },
 "nbformat": 4,
 "nbformat_minor": 0
}
