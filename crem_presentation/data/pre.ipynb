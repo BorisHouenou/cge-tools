{
 "cells": [
  {
   "cell_type": "code",
   "execution_count": 1,
   "metadata": {
    "collapsed": false
   },
   "outputs": [],
   "source": [
    "# Load all the GDX files\n",
    "from collections import OrderedDict\n",
    "from os import makedirs as mkdir\n",
    "from os.path import join\n",
    "\n",
    "import gdx\n",
    "import pandas as pd\n",
    "import xray\n",
    "\n",
    "GDX_DIR = 'gdx'\n",
    "OUT_DIR = '../../../cecp-cop21-data'\n",
    "FILES = [\n",
    "    ('bau', 'result_urban_exo.gdx'),\n",
    "    ('3', 'result_cint_n_3.gdx'),\n",
    "    ('4', 'result_cint_n_4.gdx'),\n",
    "    ('5', 'result_cint_n_5.gdx'),    \n",
    "    ]\n",
    "\n",
    "raw = OrderedDict()\n",
    "for case, fn in FILES:\n",
    "    raw[case] = gdx.File('gdx/' + fn)\n",
    "\n",
    "CREM = raw['bau']\n",
    "cases = pd.Index(raw.keys(), name='case')\n",
    "time = pd.Index(filter(lambda t: int(t) <= 2030, CREM.set('t')))"
   ]
  },
  {
   "cell_type": "code",
   "execution_count": 82,
   "metadata": {
    "collapsed": false
   },
   "outputs": [],
   "source": [
    "# List of all the parameters available in each file\n",
    "#CREM.parameters()"
   ]
  },
  {
   "cell_type": "code",
   "execution_count": 35,
   "metadata": {
    "collapsed": false
   },
   "outputs": [],
   "source": [
    "arrays = {}\n",
    "\n",
    "# GDP\n",
    "temp = [raw[case].extract('gdp_ref') for case in cases]\n",
    "arrays['GDP'] = xray.concat(temp, dim=cases).sel(rs=CREM.set('r')) \\\n",
    "                    .rename({'rs': 'r'})"
   ]
  },
  {
   "cell_type": "code",
   "execution_count": 100,
   "metadata": {
    "collapsed": false
   },
   "outputs": [],
   "source": [
    "# CO2 emissions\n",
    "temp = []\n",
    "for case in cases:\n",
    "    temp.append(raw[case].extract('sectem').sum('g') +\n",
    "        raw[case].extract('houem'))\n",
    "arrays['CO2_emi'] = xray.concat(temp, dim=cases)"
   ]
  },
  {
   "cell_type": "code",
   "execution_count": 104,
   "metadata": {
    "collapsed": false
   },
   "outputs": [],
   "source": [
    "# Air pollutant emissions\n",
    "temp = []\n",
    "for case in cases:\n",
    "    temp.append(raw[case].extract('urban').sum('*'))\n",
    "temp = xray.concat(temp, dim=cases).sel(rs=CREM.set('r')).rename({'rs': 'r'})\n",
    "for u in temp['urb']:\n",
    "    if u in ['PM10', 'PM25']:\n",
    "        continue\n",
    "    arrays['{}_emi'.format(u.values)] = temp.sel(urb=u).drop('urb')"
   ]
  },
  {
   "cell_type": "code",
   "execution_count": 36,
   "metadata": {
    "collapsed": false
   },
   "outputs": [],
   "source": [
    "# CO₂ price\n",
    "labels = ['ptcarb', 'CHN']\n",
    "temp = []\n",
    "for case in cases:\n",
    "    temp.append(raw[case]['report'].loc[labels, :, labels].sel(t=time)\n",
    "                                .values[0,:,1])\n",
    "arrays['CO2_price'] = xray.DataArray(np.array(temp), coords=[('case', cases),\n",
    "                                                             ('t', time)])"
   ]
  },
  {
   "cell_type": "code",
   "execution_count": 45,
   "metadata": {
    "collapsed": false
   },
   "outputs": [],
   "source": [
    "# Consumption\n",
    "labels = ['c'] + CREM.set('r')\n",
    "temp = []\n",
    "for case in cases:\n",
    "    temp.append(xray.DataArray(raw['bau']['report'].loc[labels,:,labels]\n",
    "                               .sel(t=time).values[0,:,1:],\n",
    "                               coords=[('t', time), ('r', CREM.set('r'))]))\n",
    "arrays['Consumption'] = xray.concat(temp, dim=cases)"
   ]
  },
  {
   "cell_type": "markdown",
   "metadata": {},
   "source": [
    "## TODO: further variables\n",
    "\n",
    "- Primary energy `egyreport2('egycons',t,'COL',rs)`\n",
    "- Population\n",
    "- Share of coal in production inputs\n",
    "- \"(In)efficiency\" of coal"
   ]
  },
  {
   "cell_type": "code",
   "execution_count": 37,
   "metadata": {
    "collapsed": false
   },
   "outputs": [
    {
     "data": {
      "text/plain": [
       "<xray.Dataset>\n",
       "Dimensions:    (case: 4, r: 30, t: 6)\n",
       "Coordinates:\n",
       "  * case       (case) object 'bau' '3' '4' '5'\n",
       "  * t          (t) object '2007' '2010' '2015' '2020' '2025' '2030'\n",
       "  * r          (r) <U3 'BJ' 'TJ' 'HE' 'LN' 'SH' 'JS' 'ZJ' 'FJ' 'SD' 'GD' ...\n",
       "Data variables:\n",
       "    CO2_price  (case, t) float64 1.0 1.0 1.0 1.0 1.0 1.0 1.0 1.0 0.006653 ...\n",
       "    GDP        (case, r, t) float64 127.6 155.0 221.5 310.5 403.3 503.6 ..."
      ]
     },
     "execution_count": 37,
     "metadata": {},
     "output_type": "execute_result"
    }
   ],
   "source": [
    "# Combine all variables into a single xray.Dataset and truncate time\n",
    "data = xray.Dataset(arrays).sel(t=time)\n",
    "# National totals\n",
    "national = data.sum('r')\n",
    "data"
   ]
  },
  {
   "cell_type": "code",
   "execution_count": 149,
   "metadata": {
    "collapsed": false
   },
   "outputs": [],
   "source": [
    "# TODO: output a README file along with the data files\n",
    "\n",
    "# Create directories\n",
    "for r in CREM.set('r'):\n",
    "    mkdir(join(OUT_DIR, r))\n",
    "mkdir(join(OUT_DIR, 'national'))\n",
    "\n",
    "# Serialize to CSV\n",
    "for c in cases:\n",
    "    # Provincial data\n",
    "    for r in CREM.set('r'):\n",
    "        data.sel(case=c, r=r).drop(['case', 'r']).to_dataframe().to_csv(\n",
    "            join(OUT_DIR, r, '{}.csv'.format(c)))\n",
    "    # National data\n",
    "    national.sel(case=c).drop('case').to_dataframe() \\\n",
    "            .to_csv(join(OUT_DIR, 'national', '{}.csv'.format(c)))"
   ]
  }
 ],
 "metadata": {
  "kernelspec": {
   "display_name": "Python 3",
   "language": "python",
   "name": "python3"
  },
  "language_info": {
   "codemirror_mode": {
    "name": "ipython",
    "version": 3
   },
   "file_extension": ".py",
   "mimetype": "text/x-python",
   "name": "python",
   "nbconvert_exporter": "python",
   "pygments_lexer": "ipython3",
   "version": "3.4.3"
  }
 },
 "nbformat": 4,
 "nbformat_minor": 0
}
