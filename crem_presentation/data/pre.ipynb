{
 "cells": [
  {
   "cell_type": "code",
   "execution_count": 24,
   "metadata": {
    "collapsed": false
   },
   "outputs": [],
   "source": [
    "# Load all the GDX files\n",
    "from collections import OrderedDict\n",
    "\n",
    "import gdx\n",
    "import pandas as pd\n",
    "import xray\n",
    "\n",
    "FILES = [\n",
    "    ('bau', 'result_urban_exo.gdx'),\n",
    "    ('3', 'result_cint_n_3.gdx'),\n",
    "    ('4', 'result_cint_n_4.gdx'),\n",
    "    ('5', 'result_cint_n_5.gdx'),    \n",
    "    ]\n",
    "\n",
    "raw = OrderedDict()\n",
    "for case, fn in FILES:\n",
    "    raw[case] = gdx.File('gdx/' + fn)\n",
    "\n",
    "CREM = raw['bau']\n",
    "cases = pd.Index(raw.keys(), name='case')\n",
    "time = pd.Index(filter(lambda t: int(t) <= 2030, CREM.set('t')))"
   ]
  },
  {
   "cell_type": "code",
   "execution_count": 82,
   "metadata": {
    "collapsed": false
   },
   "outputs": [],
   "source": [
    "# List of all the parameters available in each file\n",
    "#CREM.parameters()"
   ]
  },
  {
   "cell_type": "code",
   "execution_count": 99,
   "metadata": {
    "collapsed": false
   },
   "outputs": [],
   "source": [
    "arrays = {}\n",
    "\n",
    "# GDP\n",
    "temp = [raw[case].extract('gdp_ref') for case in cases]\n",
    "arrays['GDP'] = xray.concat(temp, dim=cases).sel(rs=CREM.set('r')) \\\n",
    "                    .rename({'rs': 'r'})"
   ]
  },
  {
   "cell_type": "code",
   "execution_count": 100,
   "metadata": {
    "collapsed": false
   },
   "outputs": [],
   "source": [
    "# CO2 emissions\n",
    "temp = []\n",
    "for case in cases:\n",
    "    temp.append(raw[case].extract('sectem').sum('g') +\n",
    "        raw[case].extract('houem'))\n",
    "arrays['CO2_emi'] = xray.concat(temp, dim=cases)"
   ]
  },
  {
   "cell_type": "code",
   "execution_count": 104,
   "metadata": {
    "collapsed": false
   },
   "outputs": [],
   "source": [
    "# Air pollutant emissions\n",
    "temp = []\n",
    "for case in cases:\n",
    "    temp.append(raw[case].extract('urban').sum('*'))\n",
    "temp = xray.concat(temp, dim=cases).sel(rs=CREM.set('r')).rename({'rs': 'r'})\n",
    "for u in temp['urb']:\n",
    "    if u in ['PM10', 'PM25']:\n",
    "        continue\n",
    "    arrays['{}_emi'.format(u.values)] = temp.sel(urb=u).drop('urb')"
   ]
  },
  {
   "cell_type": "code",
   "execution_count": 106,
   "metadata": {
    "collapsed": false
   },
   "outputs": [
    {
     "data": {
      "text/plain": [
       "<xray.Dataset>\n",
       "Dimensions:  (case: 4, r: 30, t: 6)\n",
       "Coordinates:\n",
       "  * t        (t) <U4 '2007' '2010' '2015' '2020' '2025' '2030'\n",
       "  * case     (case) object 'bau' '3' '4' '5'\n",
       "  * r        (r) <U3 'BJ' 'TJ' 'HE' 'LN' 'SH' 'JS' 'ZJ' 'FJ' 'SD' 'GD' 'HI' ...\n",
       "Data variables:\n",
       "    GDP      (case, r, t) float64 127.6 155.0 221.5 310.5 403.3 503.6 70.65 ...\n",
       "    OC_emi   (case, r, t) float64 0.02113 0.02014 0.01963 0.02251 0.0237 ...\n",
       "    CO_emi   (case, r, t) float64 2.847 2.683 2.778 3.479 4.013 4.457 2.372 ...\n",
       "    VOC_emi  (case, r, t) float64 0.934 0.9134 0.9477 1.241 1.478 1.675 ...\n",
       "    CO2_emi  (case, r, t) float64 111.1 128.3 164.1 200.6 225.2 244.5 100.6 ...\n",
       "    BC_emi   (case, r, t) float64 0.01766 0.01688 0.01721 0.01999 0.02121 ...\n",
       "    NH3_emi  (case, r, t) float64 0.0755 0.06891 0.06917 0.08399 0.09497 ...\n",
       "    SO2_emi  (case, r, t) float64 0.244 0.1953 0.2297 0.2647 0.2847 0.2973 ...\n",
       "    NOX_emi  (case, r, t) float64 0.2941 0.2745 0.2745 0.3372 0.3823 0.417 ..."
      ]
     },
     "execution_count": 106,
     "metadata": {},
     "output_type": "execute_result"
    }
   ],
   "source": [
    "# Combine all variables into a single xray.Dataset; truncate time\n",
    "data = xray.Dataset(arrays).sel(t=time)\n",
    "data"
   ]
  },
  {
   "cell_type": "code",
   "execution_count": 107,
   "metadata": {
    "collapsed": false
   },
   "outputs": [],
   "source": [
    "# Serialize to CSV: national totals\n",
    "national = data.sum('r')\n",
    "\n",
    "for c in cases:\n",
    "    national.sel(case=c).drop('case').to_dataframe().to_csv('out/{}.csv'\n",
    "                                                            .format(c))"
   ]
  }
 ],
 "metadata": {
  "kernelspec": {
   "display_name": "Python 3",
   "language": "python",
   "name": "python3"
  },
  "language_info": {
   "codemirror_mode": {
    "name": "ipython",
    "version": 3
   },
   "file_extension": ".py",
   "mimetype": "text/x-python",
   "name": "python",
   "nbconvert_exporter": "python",
   "pygments_lexer": "ipython3",
   "version": "3.4.3"
  }
 },
 "nbformat": 4,
 "nbformat_minor": 0
}
