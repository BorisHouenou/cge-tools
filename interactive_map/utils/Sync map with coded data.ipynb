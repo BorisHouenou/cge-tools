{
 "cells": [
  {
   "cell_type": "code",
   "execution_count": 1,
   "metadata": {
    "collapsed": true
   },
   "outputs": [],
   "source": [
    "import pandas as pd"
   ]
  },
  {
   "cell_type": "code",
   "execution_count": 2,
   "metadata": {
    "collapsed": false
   },
   "outputs": [
    {
     "data": {
      "text/html": [
       "<div style=\"max-height:1000px;max-width:1500px;overflow:auto;\">\n",
       "<table border=\"1\" class=\"dataframe\">\n",
       "  <thead>\n",
       "    <tr style=\"text-align: right;\">\n",
       "      <th></th>\n",
       "      <th>code</th>\n",
       "      <th>name_zh</th>\n",
       "      <th>name_en</th>\n",
       "      <th>name_pinyin</th>\n",
       "      <th>alpha</th>\n",
       "      <th>level</th>\n",
       "      <th>latitude</th>\n",
       "      <th>longitude</th>\n",
       "    </tr>\n",
       "  </thead>\n",
       "  <tbody>\n",
       "    <tr>\n",
       "      <th>1120</th>\n",
       "      <td>340000</td>\n",
       "      <td>安徽省</td>\n",
       "      <td>Anhui</td>\n",
       "      <td>NaN</td>\n",
       "      <td>AH</td>\n",
       "      <td>1</td>\n",
       "      <td>31.863255</td>\n",
       "      <td>117.2757034</td>\n",
       "    </tr>\n",
       "    <tr>\n",
       "      <th>0</th>\n",
       "      <td>110000</td>\n",
       "      <td>北京市</td>\n",
       "      <td>Beijing</td>\n",
       "      <td>NaN</td>\n",
       "      <td>BJ</td>\n",
       "      <td>1</td>\n",
       "      <td>39.908173</td>\n",
       "      <td>116.3979471</td>\n",
       "    </tr>\n",
       "    <tr>\n",
       "      <th>2464</th>\n",
       "      <td>500000</td>\n",
       "      <td>重庆市</td>\n",
       "      <td>Chongqing</td>\n",
       "      <td>NaN</td>\n",
       "      <td>CQ</td>\n",
       "      <td>1</td>\n",
       "      <td>29.554914</td>\n",
       "      <td>106.548425</td>\n",
       "    </tr>\n",
       "    <tr>\n",
       "      <th>1258</th>\n",
       "      <td>350000</td>\n",
       "      <td>福建省</td>\n",
       "      <td>Fujian</td>\n",
       "      <td>NaN</td>\n",
       "      <td>FJ</td>\n",
       "      <td>1</td>\n",
       "      <td>26.078590</td>\n",
       "      <td>119.2978134</td>\n",
       "    </tr>\n",
       "    <tr>\n",
       "      <th>3196</th>\n",
       "      <td>620000</td>\n",
       "      <td>甘肃省</td>\n",
       "      <td>Gansu</td>\n",
       "      <td>NaN</td>\n",
       "      <td>GS</td>\n",
       "      <td>1</td>\n",
       "      <td>36.068039</td>\n",
       "      <td>103.7500534</td>\n",
       "    </tr>\n",
       "  </tbody>\n",
       "</table>\n",
       "</div>"
      ],
      "text/plain": [
       "        code name_zh    name_en name_pinyin alpha  level   latitude  \\\n",
       "1120  340000     安徽省      Anhui         NaN    AH      1  31.863255   \n",
       "0     110000     北京市    Beijing         NaN    BJ      1  39.908173   \n",
       "2464  500000     重庆市  Chongqing         NaN    CQ      1  29.554914   \n",
       "1258  350000     福建省     Fujian         NaN    FJ      1  26.078590   \n",
       "3196  620000     甘肃省      Gansu         NaN    GS      1  36.068039   \n",
       "\n",
       "        longitude  \n",
       "1120  117.2757034  \n",
       "0     116.3979471  \n",
       "2464   106.548425  \n",
       "1258  119.2978134  \n",
       "3196  103.7500534  "
      ]
     },
     "execution_count": 2,
     "metadata": {},
     "output_type": "execute_result"
    }
   ],
   "source": [
    "coded = pd.read_csv('../data/unified.csv')\n",
    "coded = coded[coded.level == 1]\n",
    "coded.sort('name_en', inplace=True)\n",
    "coded.head()"
   ]
  },
  {
   "cell_type": "code",
   "execution_count": 3,
   "metadata": {
    "collapsed": false,
    "scrolled": false
   },
   "outputs": [
    {
     "data": {
      "text/html": [
       "<div style=\"max-height:1000px;max-width:1500px;overflow:auto;\">\n",
       "<table border=\"1\" class=\"dataframe\">\n",
       "  <thead>\n",
       "    <tr style=\"text-align: right;\">\n",
       "      <th></th>\n",
       "      <th>postal</th>\n",
       "      <th>woe_name</th>\n",
       "      <th>xs</th>\n",
       "      <th>ys</th>\n",
       "    </tr>\n",
       "    <tr>\n",
       "      <th>FID</th>\n",
       "      <th></th>\n",
       "      <th></th>\n",
       "      <th></th>\n",
       "      <th></th>\n",
       "    </tr>\n",
       "  </thead>\n",
       "  <tbody>\n",
       "    <tr>\n",
       "      <th>633</th>\n",
       "      <td>AH</td>\n",
       "      <td>Anhui</td>\n",
       "      <td>(116.8389978365808, 116.84773115386969, 116.90...</td>\n",
       "      <td>(34.38921906191021, 34.389761664269344, 34.400...</td>\n",
       "    </tr>\n",
       "    <tr>\n",
       "      <th>631</th>\n",
       "      <td>BJ</td>\n",
       "      <td>Beijing</td>\n",
       "      <td>(117.07273034133209, 117.0876131526249, 117.09...</td>\n",
       "      <td>(40.673538316340256, 40.675011094686226, 40.67...</td>\n",
       "    </tr>\n",
       "    <tr>\n",
       "      <th>630</th>\n",
       "      <td>CQ</td>\n",
       "      <td>Chongqing</td>\n",
       "      <td>(109.3359932795662, 109.57308475126024, 109.59...</td>\n",
       "      <td>(31.705248521402126, 31.730104885232265, 31.73...</td>\n",
       "    </tr>\n",
       "    <tr>\n",
       "      <th>632</th>\n",
       "      <td>FJ</td>\n",
       "      <td>Fujian</td>\n",
       "      <td>[117.43482506600012, 117.44778172300019, 117.4...</td>\n",
       "      <td>[23.750718492000075, 23.742251607000114, 23.75...</td>\n",
       "    </tr>\n",
       "    <tr>\n",
       "      <th>626</th>\n",
       "      <td>GS</td>\n",
       "      <td>Gansu</td>\n",
       "      <td>(98.24581749937812, 98.51520674009896, 98.5715...</td>\n",
       "      <td>(40.52452932456873, 40.533546860898895, 40.540...</td>\n",
       "    </tr>\n",
       "  </tbody>\n",
       "</table>\n",
       "</div>"
      ],
      "text/plain": [
       "    postal   woe_name                                                 xs  \\\n",
       "FID                                                                        \n",
       "633     AH      Anhui  (116.8389978365808, 116.84773115386969, 116.90...   \n",
       "631     BJ    Beijing  (117.07273034133209, 117.0876131526249, 117.09...   \n",
       "630     CQ  Chongqing  (109.3359932795662, 109.57308475126024, 109.59...   \n",
       "632     FJ     Fujian  [117.43482506600012, 117.44778172300019, 117.4...   \n",
       "626     GS      Gansu  (98.24581749937812, 98.51520674009896, 98.5715...   \n",
       "\n",
       "                                                    ys  \n",
       "FID                                                     \n",
       "633  (34.38921906191021, 34.389761664269344, 34.400...  \n",
       "631  (40.673538316340256, 40.675011094686226, 40.67...  \n",
       "630  (31.705248521402126, 31.730104885232265, 31.73...  \n",
       "632  [23.750718492000075, 23.742251607000114, 23.75...  \n",
       "626  (40.52452932456873, 40.533546860898895, 40.540...  "
      ]
     },
     "execution_count": 3,
     "metadata": {},
     "output_type": "execute_result"
    }
   ],
   "source": [
    "map_data = pd.read_hdf('../data/china_provinces_from_admin_1_shp.hdf', 'df')\n",
    "map_data.head()"
   ]
  },
  {
   "cell_type": "code",
   "execution_count": 4,
   "metadata": {
    "collapsed": true
   },
   "outputs": [],
   "source": [
    "# Clean-up 'postal' codes from Natural Earth to match 'alpha' in unified.csv\n",
    "map_data.loc[map_data[map_data.woe_name == 'Hubei'].index[0], 'postal'] = 'HB'\n",
    "map_data.loc[map_data[map_data.woe_name == 'Shaanxi'].index[0], 'postal'] = 'SN'"
   ]
  },
  {
   "cell_type": "code",
   "execution_count": 5,
   "metadata": {
    "collapsed": false
   },
   "outputs": [],
   "source": [
    "# Merge and drop the columns we don't want\n",
    "province_map_data = coded.merge(map_data, left_on='alpha', right_on='postal')\n",
    "province_map_data = province_map_data.drop(['woe_name', 'postal', 'latitude', 'longitude', 'level', 'name_pinyin'], axis=1)"
   ]
  },
  {
   "cell_type": "code",
   "execution_count": 6,
   "metadata": {
    "collapsed": false
   },
   "outputs": [
    {
     "name": "stderr",
     "output_type": "stream",
     "text": [
      "/opt/miniconda/envs/cge-tools/lib/python3.4/site-packages/pandas/io/pytables.py:2559: PerformanceWarning: \n",
      "your performance may suffer as PyTables will pickle object types that it cannot\n",
      "map directly to c-types [inferred_type->mixed,key->block1_values] [items->['name_zh', 'name_en', 'alpha', 'xs', 'ys']]\n",
      "\n",
      "  warnings.warn(ws, PerformanceWarning)\n"
     ]
    }
   ],
   "source": [
    "# Save to hdf and json\n",
    "province_map_data.to_json('../data/province_map_data.json')\n",
    "province_map_data.to_hdf('../data/province_map_data.hdf', 'df')"
   ]
  }
 ],
 "metadata": {
  "kernelspec": {
   "display_name": "Python 3",
   "language": "python",
   "name": "python3"
  },
  "language_info": {
   "codemirror_mode": {
    "name": "ipython",
    "version": 3
   },
   "file_extension": ".py",
   "mimetype": "text/x-python",
   "name": "python",
   "nbconvert_exporter": "python",
   "pygments_lexer": "ipython3",
   "version": "3.4.3"
  }
 },
 "nbformat": 4,
 "nbformat_minor": 0
}
