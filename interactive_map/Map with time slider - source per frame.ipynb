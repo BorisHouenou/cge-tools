{
 "cells": [
  {
   "cell_type": "code",
   "execution_count": 9,
   "metadata": {
    "collapsed": false
   },
   "outputs": [],
   "source": [
    "import pandas as pd\n",
    "import numpy as np\n",
    "\n",
    "from IPython.core.display import display_html\n",
    "\n",
    "from bokeh.embed import file_html\n",
    "from bokeh.models import ColumnDataSource, Patches, HoverTool, TapTool, Plot, Range1d, Callback, Slider\n",
    "from bokeh.palettes import Blues9\n",
    "from bokeh.plotting import vplot\n",
    "from bokeh.resources import Resources\n",
    "from jinja2 import Template\n",
    "\n",
    "\n",
    "from constants import PLOT_FORMATS, DARK_GRAY"
   ]
  },
  {
   "cell_type": "markdown",
   "metadata": {},
   "source": [
    "### Get the data assembled and colored\n",
    "\n",
    "The following code to get the data assembled is explained in more detail in the notebook \"Example pretty static map with data & hover\""
   ]
  },
  {
   "cell_type": "code",
   "execution_count": 10,
   "metadata": {
    "collapsed": false
   },
   "outputs": [],
   "source": [
    "map_data = pd.read_hdf('data/province_map_data.hdf', 'df')\n",
    "map_data.sort('alpha', inplace=True)\n",
    "map_data = map_data.set_index('alpha')\n",
    "data = pd.read_csv('data/sample_data_by_year.csv', index_col='alpha')"
   ]
  },
  {
   "cell_type": "code",
   "execution_count": 11,
   "metadata": {
    "collapsed": false
   },
   "outputs": [
    {
     "data": {
      "text/plain": [
       "alpha\n",
       "AH    94.083611\n",
       "BJ    60.270488\n",
       "CQ    17.200208\n",
       "FJ    62.326373\n",
       "GD    29.758603\n",
       "Name: 1990, dtype: float64"
      ]
     },
     "execution_count": 11,
     "metadata": {},
     "output_type": "execute_result"
    }
   ],
   "source": [
    "# Make the column names ints not strings for handling\n",
    "columns = list(data.columns)\n",
    "years = list(range(int(columns[0]), int(columns[-1])))\n",
    "data = data.rename(columns=dict(zip(columns, years)))\n",
    "data[1990][0:5]"
   ]
  },
  {
   "cell_type": "code",
   "execution_count": 12,
   "metadata": {
    "collapsed": false
   },
   "outputs": [
    {
     "data": {
      "text/plain": [
       "alpha\n",
       "AH    #deebf7\n",
       "BJ    #6baed6\n",
       "CQ    #08306b\n",
       "FJ    #6baed6\n",
       "GD    #08519c\n",
       "Name: 1990, dtype: object"
      ]
     },
     "execution_count": 12,
     "metadata": {},
     "output_type": "execute_result"
    }
   ],
   "source": [
    "def color_data(data, columns_to_colorify, data_min=None, data_max=None, palette=Blues9):\n",
    "    # data - the data frame which you are adding colored values to\n",
    "    # columns_to_colorify - a list of strings which select the columns\n",
    "    \n",
    "    if data_min is None:\n",
    "        num_only = data[columns_to_colorify]\n",
    "        global_min = num_only.min().min()\n",
    "        data_min = np.floor(global_min)\n",
    "\n",
    "    if data_max is None:\n",
    "        num_only = data[columns_to_colorify]\n",
    "        global_max = num_only.max().max()\n",
    "        data_max = np.ceil(global_max)\n",
    "    \n",
    "    data_range = data_max - data_min\n",
    "    bin_factor = data_range / len(palette)\n",
    "    colored = pd.DataFrame()\n",
    "    \n",
    "    def _get_color(value, palette):\n",
    "        index = int(value / bin_factor)\n",
    "        return palette[index - 1]\n",
    "\n",
    "    for column_name in columns_to_colorify:\n",
    "        colored[column_name] = data[column_name].apply(_get_color, args=([palette]))\n",
    "    return colored\n",
    "\n",
    "colored_data = color_data(data, years)\n",
    "colored_data.head()\n",
    "\n",
    "colored_data[1990][0:5]"
   ]
  },
  {
   "cell_type": "code",
   "execution_count": 13,
   "metadata": {
    "collapsed": false
   },
   "outputs": [
    {
     "data": {
      "text/plain": [
       "alpha\n",
       "AH    (116.8389978365808, 116.84773115386969, 116.90...\n",
       "BJ    (117.07273034133209, 117.0876131526249, 117.09...\n",
       "CQ    (109.3359932795662, 109.57308475126024, 109.59...\n",
       "FJ    [117.43482506600012, 117.44778172300019, 117.4...\n",
       "GD    [110.44263756600006, 110.44752037900005, 110.4...\n",
       "Name: xs, dtype: object"
      ]
     },
     "execution_count": 13,
     "metadata": {},
     "output_type": "execute_result"
    }
   ],
   "source": [
    "map_data['xs'].head()"
   ]
  },
  {
   "cell_type": "code",
   "execution_count": 14,
   "metadata": {
    "collapsed": false
   },
   "outputs": [],
   "source": [
    "sources = {}\n",
    "\n",
    "xs = map_data['xs']\n",
    "xs.name = 'xs'\n",
    "ys = map_data['ys']\n",
    "ys.name = 'ys'\n",
    "\n",
    "for year in years:\n",
    "    series = colored_data[year]\n",
    "    series.name = 'color'\n",
    "    new_df = pd.concat([series, xs, ys], axis=1)\n",
    "    sources['_' + str(year)] = ColumnDataSource(new_df)\n",
    "    \n",
    "dictionary_of_sources = dict(zip([x for x in years], ['_%s' % x for x in years]))\n",
    "js_source_array = str(dictionary_of_sources).replace(\"'\", \"\")"
   ]
  },
  {
   "cell_type": "markdown",
   "metadata": {},
   "source": [
    "## Map Code"
   ]
  },
  {
   "cell_type": "code",
   "execution_count": 15,
   "metadata": {
    "collapsed": true
   },
   "outputs": [],
   "source": [
    "def build_interactive_map(data_frame, plot_width=600, x_range=[70, 140], y_range=[10, 60], title=\"\"):\n",
    "    aspect_ratio = (x_range[1] - x_range[0]) / (y_range[1] - y_range[0])\n",
    "    plot_height = int(plot_width / aspect_ratio)\n",
    "    x_range = Range1d(x_range[0], x_range[1])\n",
    "    y_range = Range1d(y_range[0], y_range[1])\n",
    "    plot = Plot(\n",
    "        x_range=x_range, \n",
    "        y_range=y_range, \n",
    "        title=title, \n",
    "        plot_width=plot_width, \n",
    "        plot_height=plot_height, \n",
    "        **PLOT_FORMATS)\n",
    "\n",
    "    source = ColumnDataSource(data_frame)\n",
    "\n",
    "    tooltips = \"<span class='tooltip-text year'>@active_year</span>\"                   \n",
    "    tooltips += \"<span class='tooltip-text country'>@name_en</span>\"               \n",
    "    tooltips += \"<span class='tooltip-text value'>@active_value</span>\"                                \n",
    "    plot.add_tools(HoverTool(tooltips=tooltips))\n",
    "\n",
    "    countries = Patches(\n",
    "        xs='xs', \n",
    "        ys='ys',\n",
    "        fill_color='color',\n",
    "        line_color=DARK_GRAY,\n",
    "        line_width=0.5,\n",
    "    )    \n",
    "\n",
    "    renderer_source = sources['_%s' % years[0]]\n",
    "    plot.add_glyph(renderer_source, countries)\n",
    "\n",
    "    code = \"\"\"\n",
    "    var year = slider.get('value'),\n",
    "        sources = %s,\n",
    "        new_source_data = sources[year].get('data');\n",
    "    renderer_source.set('data', new_source_data);\n",
    "    renderer_source.trigger('change');\n",
    "    \"\"\" % js_source_array\n",
    "    \n",
    "    callback = Callback(args=sources, code=code)\n",
    "    slider = Slider(start=years[0], end=years[-1], value=1, step=1, title=\"Year\", callback=callback)\n",
    "    callback.args['slider'] = slider\n",
    "    callback.args['renderer_source'] = renderer_source\n",
    "\n",
    "    layout = vplot(plot, slider)\n",
    "    return layout"
   ]
  },
  {
   "cell_type": "markdown",
   "metadata": {},
   "source": [
    "## Construct map"
   ]
  },
  {
   "cell_type": "code",
   "execution_count": 16,
   "metadata": {
    "collapsed": false
   },
   "outputs": [],
   "source": [
    "PLOT_WIDTH = 900\n",
    "TITLE = 'Random data'\n",
    "layout = build_interactive_map(colored_data, plot_width=PLOT_WIDTH)\n",
    "\n",
    "with open('interactive_map_template.jinja', 'r') as f:\n",
    "    template = Template(f.read())\n",
    "\n",
    "resources = Resources(mode='inline')\n",
    "\n",
    "# Update these to change the text\n",
    "template_variables = {\n",
    "    'title': TITLE,\n",
    "    'narrative': 'Some explanatory text.',\n",
    "    'bokeh_min_js': resources.js_raw[0],\n",
    "}\n",
    "\n",
    "### DON'T USE THIS TECHNIQUE - RESULTS IN A MASSIVE FILE - DUE TO MAP DETAIL!\n",
    "\n",
    "# Use inline resources, render the html and open\n",
    "#html = file_html(layout, resources, TITLE, template=template, template_variables=template_variables)\n",
    "\n",
    "\n",
    "# Uncomment the next two lines if you'd like to save the file\n",
    "#with open('interactive_map_with_slider_1.html', 'w') as f:\n",
    "#    f.write(html)\n",
    "\n",
    "#display_html(html, raw=True)"
   ]
  },
  {
   "cell_type": "code",
   "execution_count": null,
   "metadata": {
    "collapsed": true
   },
   "outputs": [],
   "source": []
  }
 ],
 "metadata": {
  "kernelspec": {
   "display_name": "Python 3",
   "language": "python",
   "name": "python3"
  },
  "language_info": {
   "codemirror_mode": {
    "name": "ipython",
    "version": 3
   },
   "file_extension": ".py",
   "mimetype": "text/x-python",
   "name": "python",
   "nbconvert_exporter": "python",
   "pygments_lexer": "ipython3",
   "version": "3.4.3"
  }
 },
 "nbformat": 4,
 "nbformat_minor": 0
}
